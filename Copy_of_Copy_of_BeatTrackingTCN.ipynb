{
  "nbformat": 4,
  "nbformat_minor": 0,
  "metadata": {
    "colab": {
      "name": "Copy of Copy of BeatTrackingTCN.ipynb",
      "provenance": [],
      "collapsed_sections": [],
      "include_colab_link": true
    },
    "kernelspec": {
      "name": "python3",
      "display_name": "Python 3"
    },
    "language_info": {
      "name": "python"
    },
    "accelerator": "GPU"
  },
  "cells": [
    {
      "cell_type": "markdown",
      "metadata": {
        "id": "view-in-github",
        "colab_type": "text"
      },
      "source": [
        "<a href=\"https://colab.research.google.com/github/moonryul/beat-tracking-tcn/blob/master/Copy_of_Copy_of_BeatTrackingTCN.ipynb\" target=\"_parent\"><img src=\"https://colab.research.google.com/assets/colab-badge.svg\" alt=\"Open In Colab\"/></a>"
      ]
    },
    {
      "cell_type": "code",
      "metadata": {
        "id": "rRn_h9c9DLqz",
        "colab": {
          "base_uri": "https://localhost:8080/"
        },
        "outputId": "2d527ce5-462b-429b-8d2e-5f58830aab0a"
      },
      "source": [
        "from google.colab import drive\n",
        "drive.mount('/content/gdrive')"
      ],
      "execution_count": 1,
      "outputs": [
        {
          "output_type": "stream",
          "text": [
            "Mounted at /content/gdrive\n"
          ],
          "name": "stdout"
        }
      ]
    },
    {
      "cell_type": "code",
      "metadata": {
        "id": "7oBZYdqGua6G",
        "colab": {
          "base_uri": "https://localhost:8080/"
        },
        "outputId": "d992d4f0-8abd-4382-828b-6a6ab83a49da"
      },
      "source": [
        "!pwd"
      ],
      "execution_count": null,
      "outputs": [
        {
          "output_type": "stream",
          "text": [
            "/content\n"
          ],
          "name": "stdout"
        }
      ]
    },
    {
      "cell_type": "code",
      "metadata": {
        "colab": {
          "base_uri": "https://localhost:8080/"
        },
        "id": "tXCoubjvuC_K",
        "outputId": "138c8fdc-4911-4cc8-87e1-8b65838936a9"
      },
      "source": [
        "import sys\n",
        "sys.path"
      ],
      "execution_count": null,
      "outputs": [
        {
          "output_type": "execute_result",
          "data": {
            "text/plain": [
              "['',\n",
              " '/content',\n",
              " '/env/python',\n",
              " '/usr/lib/python37.zip',\n",
              " '/usr/lib/python3.7',\n",
              " '/usr/lib/python3.7/lib-dynload',\n",
              " '/usr/local/lib/python3.7/dist-packages',\n",
              " '/usr/lib/python3/dist-packages',\n",
              " '/usr/local/lib/python3.7/dist-packages/IPython/extensions',\n",
              " '/root/.ipython']"
            ]
          },
          "metadata": {
            "tags": []
          },
          "execution_count": 3
        }
      ]
    },
    {
      "cell_type": "code",
      "metadata": {
        "id": "NsOqxej1hPX6"
      },
      "source": [
        "# about the working directory in sys.path: https://stackoverflow.com/questions/24435697/python-is-the-current-directory-automatically-included-in-path\n",
        "#(1) sys.path[0]: it is never intended to be the current working directory. It’s the location of the script that is added.\n",
        "#(2) when you run a script without qualifying path, python filename.py then there is no full path for the script and so Python ends up adding '' to sys.path, \n",
        "# which means lookups end up using the current working directory.\n",
        "# (3) python directory: If the script name refers to a directory or zipfile, the script name is added to the start of sys.path and the __main__.py file in that location is executed as the __main__ module.\n",
        "# (4) python filename.py: f the script name refers directly to a Python file, the directory containing that file is added to the start of sys.path, and the file is executed as the __main__ module.\n",
        "#(5) what is the __main__ module: https://stackoverflow.com/questions/4042905/what-is-main-py"
      ],
      "execution_count": null,
      "outputs": []
    },
    {
      "cell_type": "code",
      "metadata": {
        "colab": {
          "base_uri": "https://localhost:8080/"
        },
        "id": "Edn7h3cB2X00",
        "outputId": "c1254b4a-6f69-4179-f6fb-4479829bf6e6"
      },
      "source": [
        "%cd /content/gdrive/MyDrive/ColabNotebooks"
      ],
      "execution_count": 2,
      "outputs": [
        {
          "output_type": "stream",
          "text": [
            "/content/gdrive/MyDrive/ColabNotebooks\n"
          ],
          "name": "stdout"
        }
      ]
    },
    {
      "cell_type": "code",
      "metadata": {
        "colab": {
          "base_uri": "https://localhost:8080/"
        },
        "id": "6CNv-U6bjFrE",
        "outputId": "d6913e50-4527-41fe-fbd3-b9b46b491a3d"
      },
      "source": [
        "#display the present working directory\n",
        "!pwd"
      ],
      "execution_count": null,
      "outputs": [
        {
          "output_type": "stream",
          "text": [
            "/content/gdrive/MyDrive/ColabNotebooks\n"
          ],
          "name": "stdout"
        }
      ]
    },
    {
      "cell_type": "code",
      "metadata": {
        "colab": {
          "base_uri": "https://localhost:8080/"
        },
        "id": "Qz701qRjyMNY",
        "outputId": "0cb15d75-41ec-4e43-b424-8b069055cf3b"
      },
      "source": [
        "!pip3 install virtualenv\n",
        "!virtualenv beat_env"
      ],
      "execution_count": null,
      "outputs": [
        {
          "output_type": "stream",
          "text": [
            "Collecting virtualenv\n",
            "\u001b[?25l  Downloading https://files.pythonhosted.org/packages/03/08/f819421002e85a71d58368f7bffbe0b1921325e0e8ca7857cb5fb0e1f7c1/virtualenv-20.4.7-py2.py3-none-any.whl (7.2MB)\n",
            "\u001b[K     |████████████████████████████████| 7.2MB 9.1MB/s \n",
            "\u001b[?25hRequirement already satisfied: filelock<4,>=3.0.0 in /usr/local/lib/python3.7/dist-packages (from virtualenv) (3.0.12)\n",
            "Requirement already satisfied: importlib-metadata>=0.12; python_version < \"3.8\" in /usr/local/lib/python3.7/dist-packages (from virtualenv) (4.5.0)\n",
            "Requirement already satisfied: six<2,>=1.9.0 in /usr/local/lib/python3.7/dist-packages (from virtualenv) (1.15.0)\n",
            "Requirement already satisfied: appdirs<2,>=1.4.3 in /usr/local/lib/python3.7/dist-packages (from virtualenv) (1.4.4)\n",
            "Collecting distlib<1,>=0.3.1\n",
            "\u001b[?25l  Downloading https://files.pythonhosted.org/packages/87/26/f6a23dd3e578132cf924e0dd5d4e055af0cd4ab43e2a9f10b7568bfb39d9/distlib-0.3.2-py2.py3-none-any.whl (338kB)\n",
            "\u001b[K     |████████████████████████████████| 348kB 39.5MB/s \n",
            "\u001b[?25hRequirement already satisfied: typing-extensions>=3.6.4; python_version < \"3.8\" in /usr/local/lib/python3.7/dist-packages (from importlib-metadata>=0.12; python_version < \"3.8\"->virtualenv) (3.7.4.3)\n",
            "Requirement already satisfied: zipp>=0.5 in /usr/local/lib/python3.7/dist-packages (from importlib-metadata>=0.12; python_version < \"3.8\"->virtualenv) (3.4.1)\n",
            "Installing collected packages: distlib, virtualenv\n",
            "Successfully installed distlib-0.3.2 virtualenv-20.4.7\n",
            "created virtual environment CPython3.7.10.final.0-64 in 7101ms\n",
            "  creator CPython3Posix(dest=/content/gdrive/My Drive/ColabNotebooks/beat_env, clear=False, no_vcs_ignore=False, global=False)\n",
            "  seeder FromAppData(download=False, pip=bundle, setuptools=bundle, wheel=bundle, via=copy, app_data_dir=/root/.local/share/virtualenv)\n",
            "    added seed packages: pip==21.1.2, setuptools==57.0.0, wheel==0.36.2\n",
            "  activators BashActivator,CShellActivator,FishActivator,PowerShellActivator,PythonActivator,XonshActivator\n"
          ],
          "name": "stdout"
        }
      ]
    },
    {
      "cell_type": "code",
      "metadata": {
        "colab": {
          "base_uri": "https://localhost:8080/"
        },
        "id": "GeF_e6koyUWw",
        "outputId": "9bb83555-d48c-487c-adb4-c0de9a1693c5"
      },
      "source": [
        "!source  /content/gdrive/MyDrive/ColabNotebooks/beat_env/bin/activate # You should execute this command in every cell in order to use the env beat_env\n",
        "%cd /content/gdrive/MyDrive/ColabNotebooks/beat_env\n",
        "!git clone https://github.com/moonryul/beat-tracking-tcn.git\n"
      ],
      "execution_count": null,
      "outputs": [
        {
          "output_type": "stream",
          "text": [
            "/content/gdrive/My Drive/ColabNotebooks/beat_env\n",
            "Cloning into 'beat-tracking-tcn'...\n",
            "remote: Enumerating objects: 440, done.\u001b[K\n",
            "remote: Counting objects: 100% (117/117), done.\u001b[K\n",
            "remote: Compressing objects: 100% (85/85), done.\u001b[K\n",
            "remote: Total 440 (delta 61), reused 66 (delta 31), pack-reused 323\u001b[K\n",
            "Receiving objects: 100% (440/440), 334.30 KiB | 1.81 MiB/s, done.\n",
            "Resolving deltas: 100% (255/255), done.\n"
          ],
          "name": "stdout"
        }
      ]
    },
    {
      "cell_type": "code",
      "metadata": {
        "id": "t7Ps9NgstA0g"
      },
      "source": [
        "# using venv in colab: https://stackoverflow.com/questions/48512569/is-it-possible-to-activate-virtualenv-in-google-colab-bin-sh-1-source-not\n"
      ],
      "execution_count": null,
      "outputs": []
    },
    {
      "cell_type": "code",
      "metadata": {
        "id": "hX4toC1myhvR",
        "colab": {
          "base_uri": "https://localhost:8080/",
          "height": 990
        },
        "outputId": "4e077c9a-d6b5-4202-f211-c12c67ccdcc4"
      },
      "source": [
        "#activate the virtual environment venv\n",
        "#!source venv/bin/activate\n",
        "!source   /content/gdrive/MyDrive/ColabNotebooks/beat_env/bin/activate # You should execute this command in every cell in order to use the env \n",
        "%cd /content/gdrive/MyDrive/ColabNotebooks/beat_env/beat-tracking-tcn\n",
        "# install all the dependencies for this project by using the requirement files under /content/beat-tracking-tcn/ \n",
        "!pip install -r requirements-env.txt && pip install -r requirements.txt"
      ],
      "execution_count": 15,
      "outputs": [
        {
          "output_type": "stream",
          "text": [
            "/content/gdrive/MyDrive/ColabNotebooks/beat_env/beat-tracking-tcn\n",
            "Requirement already satisfied: Cython==0.29.15 in /usr/local/lib/python3.7/dist-packages (from -r requirements-env.txt (line 1)) (0.29.15)\n",
            "Collecting librosa==0.7.2\n",
            "  Using cached https://files.pythonhosted.org/packages/77/b5/1817862d64a7c231afd15419d8418ae1f000742cac275e85c74b219cbccb/librosa-0.7.2.tar.gz\n",
            "Collecting mir-eval==0.5\n",
            "  Using cached https://files.pythonhosted.org/packages/bb/dc/a22af4ad364742e65922fb8bf0de14d63b6ec3e08ae7ce20fad522b999b7/mir_eval-0.5.tar.gz\n",
            "Collecting torch==1.4.0\n",
            "  Using cached https://files.pythonhosted.org/packages/1a/3b/fa92ece1e58a6a48ec598bab327f39d69808133e5b2fb33002ca754e381e/torch-1.4.0-cp37-cp37m-manylinux1_x86_64.whl\n",
            "Collecting madmom==0.16.1\n",
            "\u001b[?25l  Downloading https://files.pythonhosted.org/packages/c7/a3/9f3de3e8068a3606331134d96b84c8db4f7624d6715be8ab3c1f56e6731d/madmom-0.16.1.tar.gz (20.0MB)\n",
            "\u001b[K     |████████████████████████████████| 20.0MB 1.2MB/s \n",
            "\u001b[?25hRequirement already satisfied: audioread>=2.0.0 in /usr/local/lib/python3.7/dist-packages (from librosa==0.7.2->-r requirements.txt (line 1)) (2.1.9)\n",
            "Requirement already satisfied: numpy>=1.15.0 in /usr/local/lib/python3.7/dist-packages (from librosa==0.7.2->-r requirements.txt (line 1)) (1.19.5)\n",
            "Requirement already satisfied: scipy>=1.0.0 in /usr/local/lib/python3.7/dist-packages (from librosa==0.7.2->-r requirements.txt (line 1)) (1.4.1)\n",
            "Requirement already satisfied: scikit-learn!=0.19.0,>=0.14.0 in /usr/local/lib/python3.7/dist-packages (from librosa==0.7.2->-r requirements.txt (line 1)) (0.22.2.post1)\n",
            "Requirement already satisfied: joblib>=0.12 in /usr/local/lib/python3.7/dist-packages (from librosa==0.7.2->-r requirements.txt (line 1)) (1.0.1)\n",
            "Requirement already satisfied: decorator>=3.0.0 in /usr/local/lib/python3.7/dist-packages (from librosa==0.7.2->-r requirements.txt (line 1)) (4.4.2)\n",
            "Requirement already satisfied: six>=1.3 in /usr/local/lib/python3.7/dist-packages (from librosa==0.7.2->-r requirements.txt (line 1)) (1.15.0)\n",
            "Requirement already satisfied: resampy>=0.2.2 in /usr/local/lib/python3.7/dist-packages (from librosa==0.7.2->-r requirements.txt (line 1)) (0.2.2)\n",
            "Requirement already satisfied: numba>=0.43.0 in /usr/local/lib/python3.7/dist-packages (from librosa==0.7.2->-r requirements.txt (line 1)) (0.48.0)\n",
            "Requirement already satisfied: soundfile>=0.9.0 in /usr/local/lib/python3.7/dist-packages (from librosa==0.7.2->-r requirements.txt (line 1)) (0.10.3.post1)\n",
            "Requirement already satisfied: future in /usr/local/lib/python3.7/dist-packages (from mir-eval==0.5->-r requirements.txt (line 2)) (0.16.0)\n",
            "Requirement already satisfied: cython>=0.25 in /usr/local/lib/python3.7/dist-packages (from madmom==0.16.1->-r requirements.txt (line 5)) (0.29.15)\n",
            "Collecting mido>=1.2.8\n",
            "\u001b[?25l  Downloading https://files.pythonhosted.org/packages/b5/6d/e18a5b59ff086e1cd61d7fbf943d86c5f593a4e68bfc60215ab74210b22b/mido-1.2.10-py2.py3-none-any.whl (51kB)\n",
            "\u001b[K     |████████████████████████████████| 51kB 8.8MB/s \n",
            "\u001b[?25hRequirement already satisfied: setuptools in /usr/local/lib/python3.7/dist-packages (from numba>=0.43.0->librosa==0.7.2->-r requirements.txt (line 1)) (57.0.0)\n",
            "Requirement already satisfied: llvmlite<0.32.0,>=0.31.0dev0 in /usr/local/lib/python3.7/dist-packages (from numba>=0.43.0->librosa==0.7.2->-r requirements.txt (line 1)) (0.31.0)\n",
            "Requirement already satisfied: cffi>=1.0 in /usr/local/lib/python3.7/dist-packages (from soundfile>=0.9.0->librosa==0.7.2->-r requirements.txt (line 1)) (1.14.5)\n",
            "Requirement already satisfied: pycparser in /usr/local/lib/python3.7/dist-packages (from cffi>=1.0->soundfile>=0.9.0->librosa==0.7.2->-r requirements.txt (line 1)) (2.20)\n",
            "Building wheels for collected packages: librosa, mir-eval, madmom\n",
            "  Building wheel for librosa (setup.py) ... \u001b[?25l\u001b[?25hdone\n",
            "  Created wheel for librosa: filename=librosa-0.7.2-cp37-none-any.whl size=1612903 sha256=26d1fcb212a443f3002cb0e6317d167789f7c57cdc649b467bdd8d0edc7a54ac\n",
            "  Stored in directory: /root/.cache/pip/wheels/4c/6e/d7/bb93911540d2d1e44d690a1561871e5b6af82b69e80938abef\n",
            "  Building wheel for mir-eval (setup.py) ... \u001b[?25l\u001b[?25hdone\n",
            "  Created wheel for mir-eval: filename=mir_eval-0.5-cp37-none-any.whl size=95480 sha256=4b644800f978dbe1ab3a040039922a7fd9742f4097021fc23863583fa9c4412c\n",
            "  Stored in directory: /root/.cache/pip/wheels/69/d2/fe/892fae0039b51e3774a92daac135e45268ff5f52f28b99f4e4\n",
            "  Building wheel for madmom (setup.py) ... \u001b[?25l\u001b[?25hdone\n",
            "  Created wheel for madmom: filename=madmom-0.16.1-cp37-cp37m-linux_x86_64.whl size=20948000 sha256=9cac918ab77f2e478817dfb357dd9e281054e01320a678dab82997e15c52a7f8\n",
            "  Stored in directory: /root/.cache/pip/wheels/21/0c/30/e0141aa75fb0a829ba5e1dca2be0860dc98502c1789616637d\n",
            "Successfully built librosa mir-eval madmom\n",
            "\u001b[31mERROR: torchvision 0.10.0+cu102 has requirement torch==1.9.0, but you'll have torch 1.4.0 which is incompatible.\u001b[0m\n",
            "\u001b[31mERROR: torchtext 0.10.0 has requirement torch==1.9.0, but you'll have torch 1.4.0 which is incompatible.\u001b[0m\n",
            "Installing collected packages: librosa, mir-eval, torch, mido, madmom\n",
            "  Found existing installation: librosa 0.8.1\n",
            "    Uninstalling librosa-0.8.1:\n",
            "      Successfully uninstalled librosa-0.8.1\n",
            "  Found existing installation: torch 1.9.0+cu102\n",
            "    Uninstalling torch-1.9.0+cu102:\n",
            "      Successfully uninstalled torch-1.9.0+cu102\n",
            "Successfully installed librosa-0.7.2 madmom-0.16.1 mido-1.2.10 mir-eval-0.5 torch-1.4.0\n"
          ],
          "name": "stdout"
        },
        {
          "output_type": "display_data",
          "data": {
            "application/vnd.colab-display-data+json": {
              "pip_warning": {
                "packages": [
                  "librosa"
                ]
              }
            }
          },
          "metadata": {
            "tags": []
          }
        }
      ]
    },
    {
      "cell_type": "code",
      "metadata": {
        "colab": {
          "base_uri": "https://localhost:8080/"
        },
        "id": "FJYkAtJTjMzr",
        "outputId": "028a4b38-6151-4fb5-a5ca-629c5ea2ef54"
      },
      "source": [
        "\n",
        "#create a virtual env \"venv\" for this project\n",
        "#!python -m venv beat_venv => This raises an error; so we avoid it, instead we use the above cell.\n"
      ],
      "execution_count": null,
      "outputs": [
        {
          "output_type": "stream",
          "text": [
            "Error: Command '['/content/beat-tracking-tcn/venv/bin/python3', '-Im', 'ensurepip', '--upgrade', '--default-pip']' returned non-zero exit status 1.\n"
          ],
          "name": "stdout"
        }
      ]
    },
    {
      "cell_type": "code",
      "metadata": {
        "colab": {
          "base_uri": "https://localhost:8080/"
        },
        "id": "TLURN-jJ4B8v",
        "outputId": "a4e8d518-6731-4d5d-bd2f-f302845ec736"
      },
      "source": [
        "!pwd"
      ],
      "execution_count": 3,
      "outputs": [
        {
          "output_type": "stream",
          "text": [
            "/content/gdrive/MyDrive/ColabNotebooks\n"
          ],
          "name": "stdout"
        }
      ]
    },
    {
      "cell_type": "code",
      "metadata": {
        "colab": {
          "base_uri": "https://localhost:8080/"
        },
        "id": "1856I6ccMqLv",
        "outputId": "1d5797c1-9c58-4f6c-beac-c7e1bf4719c7"
      },
      "source": [
        "# numba를 이렇게 따로 설치하지 않으면 colab 관련된 에러가 발생됨\n",
        "# https://stackoverflow.com/questions/62851675/import-librosa-gives-no-module-named-numba-decorators-how-to-solve\n",
        "%cd /content/gdrive/MyDrive/ColabNotebooks/beat_env\n",
        " # go to the virtual env beat_env\n",
        "!pwd\n",
        "!source  bin/activate\n",
        "!pip install numba==0.48"
      ],
      "execution_count": 7,
      "outputs": [
        {
          "output_type": "stream",
          "text": [
            "/content/gdrive/MyDrive/ColabNotebooks/beat_env\n",
            "/content/gdrive/MyDrive/ColabNotebooks/beat_env\n",
            "Requirement already satisfied: numba==0.48 in /usr/local/lib/python3.7/dist-packages (0.48.0)\n",
            "Requirement already satisfied: setuptools in /usr/local/lib/python3.7/dist-packages (from numba==0.48) (57.0.0)\n",
            "Requirement already satisfied: llvmlite<0.32.0,>=0.31.0dev0 in /usr/local/lib/python3.7/dist-packages (from numba==0.48) (0.31.0)\n",
            "Requirement already satisfied: numpy>=1.15 in /usr/local/lib/python3.7/dist-packages (from numba==0.48) (1.19.5)\n"
          ],
          "name": "stdout"
        }
      ]
    },
    {
      "cell_type": "code",
      "metadata": {
        "colab": {
          "base_uri": "https://localhost:8080/"
        },
        "id": "G-Jc_vIE7rVI",
        "outputId": "3dbaf168-22ab-4fb2-f071-c66ac21db79e"
      },
      "source": [
        "!pwd"
      ],
      "execution_count": 8,
      "outputs": [
        {
          "output_type": "stream",
          "text": [
            "/content/gdrive/My Drive/ColabNotebooks/beat_env\n"
          ],
          "name": "stdout"
        }
      ]
    },
    {
      "cell_type": "code",
      "metadata": {
        "colab": {
          "base_uri": "https://localhost:8080/"
        },
        "id": "1OGOy9FoCBxc",
        "outputId": "c2b05250-6053-47b4-8e76-215a06b7ca06"
      },
      "source": [
        "import sys\n",
        "sys.path"
      ],
      "execution_count": null,
      "outputs": [
        {
          "output_type": "execute_result",
          "data": {
            "text/plain": [
              "['',\n",
              " '/content',\n",
              " '/env/python',\n",
              " '/usr/lib/python37.zip',\n",
              " '/usr/lib/python3.7',\n",
              " '/usr/lib/python3.7/lib-dynload',\n",
              " '/usr/local/lib/python3.7/dist-packages',\n",
              " '/usr/lib/python3/dist-packages',\n",
              " '/usr/local/lib/python3.7/dist-packages/IPython/extensions',\n",
              " '/root/.ipython',\n",
              " '/content/gdrive/My Drive/ColabNotebooks/beat_env/beat-tracking-tcn']"
            ]
          },
          "metadata": {
            "tags": []
          },
          "execution_count": 36
        }
      ]
    },
    {
      "cell_type": "code",
      "metadata": {
        "id": "K2tB5XCyE3zz"
      },
      "source": [
        "import sys\n",
        "sys.path.append('/content/gdrive/My Drive/ColabNotebooks/beat_env/beat-tracking-tcn')"
      ],
      "execution_count": 1,
      "outputs": []
    },
    {
      "cell_type": "code",
      "metadata": {
        "id": "GSdG0OmEGM0u"
      },
      "source": [
        "import librosa"
      ],
      "execution_count": 3,
      "outputs": []
    },
    {
      "cell_type": "code",
      "metadata": {
        "id": "BOTz9_1DOuUv"
      },
      "source": [
        "librosa??"
      ],
      "execution_count": 4,
      "outputs": []
    },
    {
      "cell_type": "code",
      "metadata": {
        "colab": {
          "base_uri": "https://localhost:8080/"
        },
        "id": "WCfZHyQfzHOd",
        "outputId": "f3f73829-76a1-435a-992f-aef44f0f3ece"
      },
      "source": [
        "\n",
        "%cd /content/gdrive/MyDrive/ColabNotebooks/beat_env\n",
        "!source  bin/activate \n",
        "\n",
        "from beat_tracking_tcn.beat_tracker import beatTracker\n",
        "\n",
        "beats, downbeats = beatTracker('/content/gdrive/MyDrive/ColabNotebooks/beat_env/audiofiles/jazz_05.wav')"
      ],
      "execution_count": 6,
      "outputs": [
        {
          "output_type": "stream",
          "text": [
            "/content/gdrive/MyDrive/ColabNotebooks/beat_env\n"
          ],
          "name": "stdout"
        }
      ]
    },
    {
      "cell_type": "markdown",
      "metadata": {
        "id": "l4mmgglI0RFf"
      },
      "source": [
        "## beatTracker"
      ]
    },
    {
      "cell_type": "code",
      "metadata": {
        "colab": {
          "base_uri": "https://localhost:8080/"
        },
        "id": "a1BnirEnotST",
        "outputId": "c0f10277-64a4-40b7-b94a-72c773cf8f86"
      },
      "source": [
        "beats"
      ],
      "execution_count": 10,
      "outputs": [
        {
          "output_type": "execute_result",
          "data": {
            "text/plain": [
              "array([ 0.        ,  0.31927438,  0.6585034 ,  0.99773243,  1.30702948,\n",
              "        1.65623583,  1.98548753,  2.31473923,  2.63401361,  2.95328798,\n",
              "        3.28253968,  3.61179138,  3.96099773,  4.29024943,  4.59954649,\n",
              "        4.92879819,  5.26802721,  5.60725624,  5.92653061,  6.26575964,\n",
              "        6.58503401,  6.90430839,  7.23356009,  7.58276644,  7.91201814,\n",
              "        8.24126984,  8.55056689,  8.88979592,  9.20907029,  9.538322  ,\n",
              "        9.88752834, 10.1968254 , 10.54603175, 10.8553288 , 11.20453515,\n",
              "       11.53378685, 11.85306122, 12.1723356 , 12.51156463, 12.830839  ,\n",
              "       13.18004535, 13.50929705, 13.83854875, 14.1478458 , 14.48707483,\n",
              "       14.82630385, 15.15555556, 15.47482993, 15.79410431, 16.14331066,\n",
              "       16.46258503, 16.80181406, 17.13106576, 17.46031746, 17.76961451,\n",
              "       18.09886621, 18.42811791, 18.77732426, 19.08662132, 19.43582766,\n",
              "       19.76507937, 20.08435374, 20.41360544, 20.74285714, 21.06213152,\n",
              "       21.41133787, 21.72063492, 22.05986395, 22.37913832, 22.72834467,\n",
              "       23.04761905, 23.38684807, 23.71609977, 24.03537415, 24.35464853,\n",
              "       24.70385488, 25.03310658, 25.34240363, 25.67165533, 26.01088435,\n",
              "       26.34013605, 26.67936508, 27.00861678, 27.31791383, 27.64716553,\n",
              "       27.98639456, 28.31564626, 28.65487528, 28.96417234, 29.29342404,\n",
              "       29.62267574, 29.95192744])"
            ]
          },
          "metadata": {
            "tags": []
          },
          "execution_count": 10
        }
      ]
    },
    {
      "cell_type": "code",
      "metadata": {
        "colab": {
          "base_uri": "https://localhost:8080/"
        },
        "id": "CdAU7MLfowhX",
        "outputId": "198bc9db-d04d-4a80-f717-e62dfefd9b8d"
      },
      "source": [
        "downbeats"
      ],
      "execution_count": 9,
      "outputs": [
        {
          "output_type": "execute_result",
          "data": {
            "text/plain": [
              "array([ 4.28027211,  9.39863946, 14.69659864, 20.04444444, 25.3324263 ])"
            ]
          },
          "metadata": {
            "tags": []
          },
          "execution_count": 9
        }
      ]
    }
  ]
}